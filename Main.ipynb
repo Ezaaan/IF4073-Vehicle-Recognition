{
 "cells": [
  {
   "cell_type": "code",
   "execution_count": 29,
   "metadata": {},
   "outputs": [],
   "source": [
    "import os\n",
    "import cv2\n",
    "import numpy as np\n",
    "from sklearn.svm import SVC\n",
    "from sklearn.preprocessing import LabelEncoder\n",
    "from sklearn.model_selection import train_test_split\n",
    "from sklearn.metrics import classification_report\n",
    "from skimage.morphology import disk, binary_closing, remove_small_objects\n",
    "import matplotlib.pyplot as plt\n",
    "\n",
    "# Define paths\n",
    "dataset_path = \"./dataset/train\"\n",
    "test_path = \"./dataset/test\"\n",
    "\n",
    "def load_data(dataset_path):\n",
    "    data = []\n",
    "    labels = []\n",
    "\n",
    "    for category in os.listdir(dataset_path):  # car, bus, truck\n",
    "        category_path = os.path.join(dataset_path, category)\n",
    "        if os.path.isdir(category_path):\n",
    "            for img_name in os.listdir(category_path):\n",
    "                img_path = os.path.join(category_path, img_name)\n",
    "                # Read and preprocess the image\n",
    "                img = cv2.imread(img_path)\n",
    "                img = cv2.resize(img, (128, 128))  # Resize for uniformity\n",
    "                gray = cv2.cvtColor(img, cv2.COLOR_BGR2GRAY)\n",
    "                edges = cv2.Canny(gray, gray.mean() - gray.std(), gray.mean() + gray.std())  # Apply Canny edge detection\n",
    "\n",
    "                binarized_edges = edges > 0  # Binarize the edge-detected image\n",
    "                binarized_edges = remove_small_objects(binarized_edges, min_size=3)\n",
    "\n",
    "                closed_edge = binary_closing(binarized_edges, disk(17))\n",
    "                filled_segment = cv2.morphologyEx(closed_edge.astype(np.uint8), cv2.MORPH_CLOSE, None)\n",
    "\n",
    "                # Apply the mask to the image\n",
    "                if len(img.shape) == 3:\n",
    "                    obj_img = img * filled_segment[:, :, np.newaxis]\n",
    "                else:\n",
    "                    obj_img = img * filled_segment\n",
    "\n",
    "                # Histogram of Oriented Gradients (HOG)\n",
    "                winSize = (64, 64)\n",
    "                blockSize = (16, 16)\n",
    "                blockStride = (8, 8)\n",
    "                cellSize = (8, 8)\n",
    "                nbins = 9\n",
    "                hog = cv2.HOGDescriptor(winSize, blockSize, blockStride, cellSize, nbins)\n",
    "                hog_features = hog.compute(obj_img).flatten()\n",
    "                        \n",
    "                # Flatten the edge-detected image as features\n",
    "                data.append(hog_features)\n",
    "                labels.append(category)\n",
    "\n",
    "    return np.array(data), np.array(labels)"
   ]
  },
  {
   "cell_type": "code",
   "execution_count": 30,
   "metadata": {},
   "outputs": [
    {
     "name": "stdout",
     "output_type": "stream",
     "text": [
      "Classification Report:\n",
      "              precision    recall  f1-score   support\n",
      "\n",
      "         Bus       1.00      0.67      0.80         3\n",
      "         Car       1.00      0.67      0.80         3\n",
      "  Motorcycle       1.00      1.00      1.00         3\n",
      "       Truck       0.87      1.00      0.93        13\n",
      "\n",
      "    accuracy                           0.91        22\n",
      "   macro avg       0.97      0.83      0.88        22\n",
      "weighted avg       0.92      0.91      0.90        22\n",
      "\n"
     ]
    }
   ],
   "source": [
    "# Load the dataset\n",
    "X_train, y = load_data(dataset_path)\n",
    "X_test, y_test = load_data(test_path)\n",
    "\n",
    "# Encode labels (car -> 0, bus -> 1, truck -> 2)\n",
    "label_encoder = LabelEncoder()\n",
    "y_train = label_encoder.fit_transform(y)\n",
    "y_test = label_encoder.fit_transform(y_test)\n",
    "\n",
    "# Split dataset into training and test sets\n",
    "# X_train, X_test, y_train, y_test = train_test_split(X, y_encoded, test_size=0.2, random_state=42)\n",
    "\n",
    "# Train an SVM classifier\n",
    "svm_model = SVC(kernel='rbf', probability=True)\n",
    "svm_model.fit(X_train, y_train)\n",
    "\n",
    "# Evaluate the model on the test set\n",
    "y_pred = svm_model.predict(X_test)\n",
    "print(\"Classification Report:\")\n",
    "print(classification_report(y_test, y_pred, target_names=label_encoder.classes_))"
   ]
  },
  {
   "cell_type": "code",
   "execution_count": 38,
   "metadata": {},
   "outputs": [],
   "source": [
    "from joblib import Parallel, delayed \n",
    "import joblib \n",
    "\n",
    "# Save the model\n",
    "joblib.dump(svm_model, 'svm_model.pkl')\n",
    "joblib.dump(label_encoder, 'svm_label_encoder.pkl')\n",
    "\n",
    "#Load the model\n",
    "loaded_model = joblib.load('svm_model.pkl')\n"
   ]
  },
  {
   "cell_type": "code",
   "execution_count": 39,
   "metadata": {},
   "outputs": [],
   "source": [
    "# Prediction function\n",
    "def predict_image(image_path):\n",
    "    img = cv2.imread(image_path)\n",
    "    print(image_path)\n",
    "    img = cv2.resize(img, (128, 128))  # Resize for uniformity\n",
    "    gray = cv2.cvtColor(img, cv2.COLOR_BGR2GRAY)\n",
    "    edges = cv2.Canny(gray, gray.mean() - gray.std(), gray.mean() + gray.std())  # Apply Canny edge detection\n",
    "\n",
    "    binarized_edges = edges > 0  # Binarize the edge-detected image\n",
    "    binarized_edges = remove_small_objects(binarized_edges, min_size=3)\n",
    "\n",
    "    closed_edge = binary_closing(binarized_edges, disk(17))\n",
    "    filled_segment = cv2.morphologyEx(closed_edge.astype(np.uint8), cv2.MORPH_CLOSE, None)\n",
    "    \n",
    "    # Apply the mask to the image\n",
    "    if len(img.shape) == 3:\n",
    "        obj_img = img * filled_segment[:, :, np.newaxis]\n",
    "    else:\n",
    "        obj_img = img * filled_segment\n",
    "\n",
    "    # Histogram of Oriented Gradients (HOG)\n",
    "    winSize = (64, 64)\n",
    "    blockSize = (16, 16)\n",
    "    blockStride = (8, 8)\n",
    "    cellSize = (8, 8)\n",
    "    nbins = 9\n",
    "    hog = cv2.HOGDescriptor(winSize, blockSize, blockStride, cellSize, nbins)\n",
    "    hog_features = [hog.compute(obj_img).flatten()]\n",
    "                        \n",
    "    # Predict the class and confidence\n",
    "    predicted_class_index = loaded_model.predict(hog_features)[0]\n",
    "    confidence = np.max(loaded_model.predict_proba(hog_features))\n",
    "    predicted_label = label_encoder.inverse_transform([predicted_class_index])[0]\n",
    "\n",
    "    return predicted_label, confidence"
   ]
  },
  {
   "cell_type": "code",
   "execution_count": 41,
   "metadata": {},
   "outputs": [
    {
     "name": "stdout",
     "output_type": "stream",
     "text": [
      "./dataset/test/Bus/blue-bus.jpg\n",
      "The predicted label for the test image is: Bus\n",
      "Confidence level: 0.61\n"
     ]
    }
   ],
   "source": [
    "# Test with a new image\n",
    "test_image_path = \"./dataset/test/Bus/blue-bus.jpg\"  # Replace with your test image path\n",
    "predicted_label, confidence = predict_image(test_image_path)\n",
    "print(f\"The predicted label for the test image is: {predicted_label}\")\n",
    "print(f\"Confidence level: {confidence:.2f}\")"
   ]
  }
 ],
 "metadata": {
  "kernelspec": {
   "display_name": "Python 3",
   "language": "python",
   "name": "python3"
  },
  "language_info": {
   "codemirror_mode": {
    "name": "ipython",
    "version": 3
   },
   "file_extension": ".py",
   "mimetype": "text/x-python",
   "name": "python",
   "nbconvert_exporter": "python",
   "pygments_lexer": "ipython3",
   "version": "3.10.6"
  }
 },
 "nbformat": 4,
 "nbformat_minor": 2
}
