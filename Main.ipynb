{
 "cells": [
  {
   "cell_type": "code",
   "execution_count": 1,
   "metadata": {},
   "outputs": [
    {
     "name": "stdout",
     "output_type": "stream",
     "text": [
      "Classification Report:\n",
      "              precision    recall  f1-score   support\n",
      "\n",
      "       buses       0.75      0.96      0.84        46\n",
      "        cars       0.62      0.38      0.48        13\n",
      "      trucks       0.50      0.10      0.17        10\n",
      "\n",
      "    accuracy                           0.72        69\n",
      "   macro avg       0.62      0.48      0.49        69\n",
      "weighted avg       0.69      0.72      0.67        69\n",
      "\n",
      "The predicted label for the test image is: cars\n",
      "Confidence level: 0.56\n"
     ]
    }
   ],
   "source": [
    "import os\n",
    "import cv2\n",
    "import numpy as np\n",
    "from sklearn.svm import SVC\n",
    "from sklearn.preprocessing import LabelEncoder\n",
    "from sklearn.model_selection import train_test_split\n",
    "from sklearn.metrics import classification_report\n",
    "\n",
    "# Define paths\n",
    "dataset_path = \"./dataset/train\"\n",
    "\n",
    "def load_data(dataset_path):\n",
    "    data = []\n",
    "    labels = []\n",
    "\n",
    "    for category in os.listdir(dataset_path):  # car, bus, truck\n",
    "        category_path = os.path.join(dataset_path, category)\n",
    "        if os.path.isdir(category_path):\n",
    "            for img_name in os.listdir(category_path):\n",
    "                img_path = os.path.join(category_path, img_name)\n",
    "                # Read and preprocess the image\n",
    "                img = cv2.imread(img_path)\n",
    "                img = cv2.resize(img, (128, 128))  # Resize for uniformity\n",
    "                gray = cv2.cvtColor(img, cv2.COLOR_BGR2GRAY)\n",
    "                edges = cv2.Canny(gray, 100, 200)  # Apply Canny edge detection\n",
    "\n",
    "                # Flatten the edge-detected image as features\n",
    "                data.append(edges.flatten())\n",
    "                labels.append(category)\n",
    "\n",
    "    return np.array(data), np.array(labels)\n",
    "\n",
    "# Load the dataset\n",
    "X, y = load_data(dataset_path)\n",
    "\n",
    "# Encode labels (car -> 0, bus -> 1, truck -> 2)\n",
    "label_encoder = LabelEncoder()\n",
    "y_encoded = label_encoder.fit_transform(y)\n",
    "\n",
    "# Split dataset into training and test sets\n",
    "X_train, X_test, y_train, y_test = train_test_split(X, y_encoded, test_size=0.2, random_state=42)\n",
    "\n",
    "# Train an SVM classifier\n",
    "svm_model = SVC(kernel='linear', probability=True)\n",
    "svm_model.fit(X_train, y_train)\n",
    "\n",
    "# Evaluate the model on the test set\n",
    "y_pred = svm_model.predict(X_test)\n",
    "print(\"Classification Report:\")\n",
    "print(classification_report(y_test, y_pred, target_names=label_encoder.classes_))\n",
    "\n",
    "# Prediction function\n",
    "def predict_image(image_path):\n",
    "    img = cv2.imread(image_path)\n",
    "    img = cv2.resize(img, (128, 128))  # Resize for uniformity\n",
    "    gray = cv2.cvtColor(img, cv2.COLOR_BGR2GRAY)\n",
    "    edges = cv2.Canny(gray, 100, 200)  # Apply Canny edge detection\n",
    "    features = edges.flatten().reshape(1, -1)  # Reshape for prediction\n",
    "\n",
    "    # Predict the class and confidence\n",
    "    predicted_class_index = svm_model.predict(features)[0]\n",
    "    confidence = np.max(svm_model.predict_proba(features))\n",
    "    predicted_label = label_encoder.inverse_transform([predicted_class_index])[0]\n",
    "\n",
    "    return predicted_label, confidence"
   ]
  },
  {
   "cell_type": "code",
   "execution_count": 6,
   "metadata": {},
   "outputs": [
    {
     "name": "stdout",
     "output_type": "stream",
     "text": [
      "The predicted label for the test image is: buses\n",
      "Confidence level: 0.90\n"
     ]
    }
   ],
   "source": [
    "# Test with a new image\n",
    "test_image_path = \"./test/truck2.jpg\"  # Replace with your test image path\n",
    "predicted_label, confidence = predict_image(test_image_path)\n",
    "print(f\"The predicted label for the test image is: {predicted_label}\")\n",
    "print(f\"Confidence level: {confidence:.2f}\")"
   ]
  }
 ],
 "metadata": {
  "kernelspec": {
   "display_name": "Python 3",
   "language": "python",
   "name": "python3"
  },
  "language_info": {
   "codemirror_mode": {
    "name": "ipython",
    "version": 3
   },
   "file_extension": ".py",
   "mimetype": "text/x-python",
   "name": "python",
   "nbconvert_exporter": "python",
   "pygments_lexer": "ipython3",
   "version": "3.10.7"
  }
 },
 "nbformat": 4,
 "nbformat_minor": 2
}
